{
 "cells": [
  {
   "cell_type": "markdown",
   "id": "f8564181-6b5a-46bb-a390-bc72cac08a40",
   "metadata": {},
   "source": [
    "# Comparing_Models_KNN_Feature_Selection._Embedded_Methods"
   ]
  },
  {
   "cell_type": "markdown",
   "id": "1b11be3a-c7d7-4034-ba06-dbe2ea76a47a",
   "metadata": {},
   "source": [
    "1. Fit the models  `LinearRegression`,`Lasso` and `Ridge` and compare the model performances. \n",
    "2. Define a function that takes a list of models and trains (and tests) them so we can try a lot of them without repeating code.\n",
    "3. Use feature selection techniques (P-Value, RFE) to select a subset of features to train the model with (if necessary).\n",
    "4. (optional) Re-fit the models with the selected features."
   ]
  },
  {
   "cell_type": "markdown",
   "id": "c359d333-83c1-42e3-a240-1baf14183ea4",
   "metadata": {},
   "source": [
    "#### 1. Fit the models LinearRegression,Lasso and Ridge and compare the model performances."
   ]
  },
  {
   "cell_type": "code",
   "execution_count": null,
   "id": "5f0bc7ce-64e9-455b-9ac7-8ba100fb91c0",
   "metadata": {},
   "outputs": [],
   "source": []
  },
  {
   "cell_type": "markdown",
   "id": "04db0ae2-6afc-4832-afa6-148c1949c01d",
   "metadata": {},
   "source": [
    "#### 2. Define a function that takes a list of models and trains (and tests) them so we can try a lot of them without repeating code."
   ]
  },
  {
   "cell_type": "code",
   "execution_count": null,
   "id": "bc5b1ad3-87ca-4a3d-a0cd-d9d2eef5fb28",
   "metadata": {},
   "outputs": [],
   "source": []
  },
  {
   "cell_type": "markdown",
   "id": "12da3e99-4fb6-4a20-8d76-3aa669b46ce6",
   "metadata": {},
   "source": [
    "#### 3. Use feature selection techniques (P-Value, RFE) to select a subset of features to train the model with (if necessary)."
   ]
  },
  {
   "cell_type": "code",
   "execution_count": null,
   "id": "ce47596f-e001-4a97-8c13-e75ddf6c8ab4",
   "metadata": {},
   "outputs": [],
   "source": []
  },
  {
   "cell_type": "markdown",
   "id": "bad4feda-91dd-417e-acd5-35b8f1e65fbf",
   "metadata": {},
   "source": [
    "#### 4. (optional) Re-fit the models with the selected features."
   ]
  },
  {
   "cell_type": "code",
   "execution_count": null,
   "id": "5ae5032f-1420-40e8-a8d8-0a80f3fa6bdb",
   "metadata": {},
   "outputs": [],
   "source": []
  }
 ],
 "metadata": {
  "kernelspec": {
   "display_name": "Python 3 (ipykernel)",
   "language": "python",
   "name": "python3"
  },
  "language_info": {
   "codemirror_mode": {
    "name": "ipython",
    "version": 3
   },
   "file_extension": ".py",
   "mimetype": "text/x-python",
   "name": "python",
   "nbconvert_exporter": "python",
   "pygments_lexer": "ipython3",
   "version": "3.11.5"
  }
 },
 "nbformat": 4,
 "nbformat_minor": 5
}
